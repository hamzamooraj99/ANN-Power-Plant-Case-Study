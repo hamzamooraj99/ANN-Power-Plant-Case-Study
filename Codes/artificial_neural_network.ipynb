{
  "nbformat": 4,
  "nbformat_minor": 0,
  "metadata": {
    "colab": {
      "provenance": []
    },
    "kernelspec": {
      "name": "python3",
      "display_name": "Python 3"
    }
  },
  "cells": [
    {
      "cell_type": "markdown",
      "metadata": {
        "id": "3cbb7fRy-eyr"
      },
      "source": [
        "# Artificial Neural Network"
      ]
    },
    {
      "cell_type": "markdown",
      "metadata": {
        "id": "8sNDnxE2-pwE"
      },
      "source": [
        "### Importing the libraries"
      ]
    },
    {
      "cell_type": "code",
      "source": [
        "import pandas as pd\n",
        "import numpy as np\n",
        "import tensorflow as tf\n",
        "tf.__version__"
      ],
      "metadata": {
        "colab": {
          "base_uri": "https://localhost:8080/",
          "height": 35
        },
        "id": "SdpIQ928RAjS",
        "outputId": "140407c1-00cd-460a-a495-b5eb798092cf"
      },
      "execution_count": 1,
      "outputs": [
        {
          "output_type": "execute_result",
          "data": {
            "text/plain": [
              "'2.15.0'"
            ],
            "application/vnd.google.colaboratory.intrinsic+json": {
              "type": "string"
            }
          },
          "metadata": {},
          "execution_count": 1
        }
      ]
    },
    {
      "cell_type": "markdown",
      "metadata": {
        "id": "AG3FQEch-yuA"
      },
      "source": [
        "## Part 1 - Data Preprocessing"
      ]
    },
    {
      "cell_type": "markdown",
      "metadata": {
        "id": "-4zq8Mza_D9O"
      },
      "source": [
        "### Importing the dataset"
      ]
    },
    {
      "cell_type": "code",
      "source": [
        "dataset = pd.read_excel(\"Folds5x2_pp.xlsx\")\n",
        "X = dataset.iloc[:, :-1].values\n",
        "y = dataset.iloc[:, -1].values"
      ],
      "metadata": {
        "id": "843rpsteRMXi"
      },
      "execution_count": 2,
      "outputs": []
    },
    {
      "cell_type": "markdown",
      "metadata": {
        "id": "VC6omXel_Up0"
      },
      "source": [
        "### Splitting the dataset into the Training set and Test set"
      ]
    },
    {
      "cell_type": "code",
      "source": [
        "from sklearn.model_selection import train_test_split\n",
        "X_train, X_test, y_train, y_test = train_test_split(X, y, test_size=0.2, random_state=0)"
      ],
      "metadata": {
        "id": "5geGTNkiSSs0"
      },
      "execution_count": 3,
      "outputs": []
    },
    {
      "cell_type": "markdown",
      "metadata": {
        "id": "_mSLlAT9_eyI"
      },
      "source": [
        "## Part 2 - Building the ANN"
      ]
    },
    {
      "cell_type": "markdown",
      "metadata": {
        "id": "CsBULd_f_wLY"
      },
      "source": [
        "### Initializing the ANN"
      ]
    },
    {
      "cell_type": "code",
      "source": [
        "ann = tf.keras.models.Sequential()"
      ],
      "metadata": {
        "id": "-Y03hD55Voyz"
      },
      "execution_count": 4,
      "outputs": []
    },
    {
      "cell_type": "markdown",
      "metadata": {
        "id": "iitAFJS_ABUn"
      },
      "source": [
        "### Adding the input layer and the first hidden layer"
      ]
    },
    {
      "cell_type": "code",
      "source": [
        "ann.add(tf.keras.layers.Dense(units=6, activation='relu'))"
      ],
      "metadata": {
        "id": "ng2v38aaWD2x"
      },
      "execution_count": 23,
      "outputs": []
    },
    {
      "cell_type": "markdown",
      "metadata": {
        "id": "-lb4kK_wAKbs"
      },
      "source": [
        "### Adding the second hidden layer"
      ]
    },
    {
      "cell_type": "code",
      "source": [
        "ann.add(tf.keras.layers.Dense(units=6, activation='relu'))"
      ],
      "metadata": {
        "id": "ZCeJ_FaDWemB"
      },
      "execution_count": 24,
      "outputs": []
    },
    {
      "cell_type": "markdown",
      "metadata": {
        "id": "jwMOmKb3AdBY"
      },
      "source": [
        "### Adding the output layer"
      ]
    },
    {
      "cell_type": "code",
      "source": [
        "ann.add(tf.keras.layers.Dense(units=1))"
      ],
      "metadata": {
        "id": "OIRumie1WfIA"
      },
      "execution_count": 25,
      "outputs": []
    },
    {
      "cell_type": "markdown",
      "metadata": {
        "id": "fq7e4fF6A1yy"
      },
      "source": [
        "## Part 3 - Training the ANN"
      ]
    },
    {
      "cell_type": "markdown",
      "metadata": {
        "id": "qDeylAs2An25"
      },
      "source": [
        "### Compiling the ANN"
      ]
    },
    {
      "cell_type": "code",
      "source": [
        "ann.compile(optimizer='adam', loss='mean_squared_error')"
      ],
      "metadata": {
        "id": "lZQYIPVpXqdT"
      },
      "execution_count": 26,
      "outputs": []
    },
    {
      "cell_type": "markdown",
      "metadata": {
        "id": "YjVuiybYOo7r"
      },
      "source": [
        "### Training the ANN model on the Training set"
      ]
    },
    {
      "cell_type": "code",
      "source": [
        "ann.fit(X_train, y_train, batch_size=64, epochs=100)"
      ],
      "metadata": {
        "colab": {
          "base_uri": "https://localhost:8080/"
        },
        "id": "eLSthiW6Xq9q",
        "outputId": "7590e351-8197-4d12-ff17-05401dbe4576"
      },
      "execution_count": 34,
      "outputs": [
        {
          "output_type": "stream",
          "name": "stdout",
          "text": [
            "Epoch 1/100\n",
            "120/120 [==============================] - 1s 12ms/step - loss: 29.3788\n",
            "Epoch 2/100\n",
            "120/120 [==============================] - 1s 8ms/step - loss: 27.7671\n",
            "Epoch 3/100\n",
            "120/120 [==============================] - 1s 10ms/step - loss: 27.2060\n",
            "Epoch 4/100\n",
            "120/120 [==============================] - 1s 9ms/step - loss: 28.3806\n",
            "Epoch 5/100\n",
            "120/120 [==============================] - 1s 7ms/step - loss: 27.2518\n",
            "Epoch 6/100\n",
            "120/120 [==============================] - 1s 6ms/step - loss: 28.1979\n",
            "Epoch 7/100\n",
            "120/120 [==============================] - 1s 4ms/step - loss: 27.5383\n",
            "Epoch 8/100\n",
            "120/120 [==============================] - 1s 6ms/step - loss: 28.5503\n",
            "Epoch 9/100\n",
            "120/120 [==============================] - 0s 3ms/step - loss: 27.1089\n",
            "Epoch 10/100\n",
            "120/120 [==============================] - 0s 3ms/step - loss: 30.4748\n",
            "Epoch 11/100\n",
            "120/120 [==============================] - 0s 3ms/step - loss: 28.3872\n",
            "Epoch 12/100\n",
            "120/120 [==============================] - 0s 3ms/step - loss: 27.2750\n",
            "Epoch 13/100\n",
            "120/120 [==============================] - 0s 3ms/step - loss: 27.8129\n",
            "Epoch 14/100\n",
            "120/120 [==============================] - 0s 4ms/step - loss: 28.3745\n",
            "Epoch 15/100\n",
            "120/120 [==============================] - 0s 4ms/step - loss: 27.6972\n",
            "Epoch 16/100\n",
            "120/120 [==============================] - 0s 3ms/step - loss: 27.2790\n",
            "Epoch 17/100\n",
            "120/120 [==============================] - 0s 2ms/step - loss: 27.5791\n",
            "Epoch 18/100\n",
            "120/120 [==============================] - 0s 4ms/step - loss: 28.3379\n",
            "Epoch 19/100\n",
            "120/120 [==============================] - 1s 4ms/step - loss: 27.6982\n",
            "Epoch 20/100\n",
            "120/120 [==============================] - 1s 4ms/step - loss: 27.3535\n",
            "Epoch 21/100\n",
            "120/120 [==============================] - 1s 4ms/step - loss: 27.4694\n",
            "Epoch 22/100\n",
            "120/120 [==============================] - 1s 5ms/step - loss: 27.1323\n",
            "Epoch 23/100\n",
            "120/120 [==============================] - 0s 3ms/step - loss: 27.2602\n",
            "Epoch 24/100\n",
            "120/120 [==============================] - 0s 3ms/step - loss: 27.0159\n",
            "Epoch 25/100\n",
            "120/120 [==============================] - 0s 3ms/step - loss: 27.5280\n",
            "Epoch 26/100\n",
            "120/120 [==============================] - 0s 2ms/step - loss: 27.3032\n",
            "Epoch 27/100\n",
            "120/120 [==============================] - 0s 2ms/step - loss: 27.3704\n",
            "Epoch 28/100\n",
            "120/120 [==============================] - 0s 3ms/step - loss: 27.0496\n",
            "Epoch 29/100\n",
            "120/120 [==============================] - 0s 3ms/step - loss: 27.7470\n",
            "Epoch 30/100\n",
            "120/120 [==============================] - 0s 3ms/step - loss: 29.4241\n",
            "Epoch 31/100\n",
            "120/120 [==============================] - 0s 3ms/step - loss: 28.2050\n",
            "Epoch 32/100\n",
            "120/120 [==============================] - 0s 3ms/step - loss: 27.2912\n",
            "Epoch 33/100\n",
            "120/120 [==============================] - 0s 3ms/step - loss: 28.4460\n",
            "Epoch 34/100\n",
            "120/120 [==============================] - 0s 3ms/step - loss: 28.4670\n",
            "Epoch 35/100\n",
            "120/120 [==============================] - 0s 2ms/step - loss: 26.5100\n",
            "Epoch 36/100\n",
            "120/120 [==============================] - 0s 2ms/step - loss: 29.3477\n",
            "Epoch 37/100\n",
            "120/120 [==============================] - 0s 2ms/step - loss: 27.4202\n",
            "Epoch 38/100\n",
            "120/120 [==============================] - 0s 3ms/step - loss: 27.8587\n",
            "Epoch 39/100\n",
            "120/120 [==============================] - 0s 3ms/step - loss: 28.0341\n",
            "Epoch 40/100\n",
            "120/120 [==============================] - 0s 3ms/step - loss: 27.2576\n",
            "Epoch 41/100\n",
            "120/120 [==============================] - 0s 3ms/step - loss: 28.8448\n",
            "Epoch 42/100\n",
            "120/120 [==============================] - 0s 3ms/step - loss: 27.4939\n",
            "Epoch 43/100\n",
            "120/120 [==============================] - 0s 3ms/step - loss: 26.9978\n",
            "Epoch 44/100\n",
            "120/120 [==============================] - 0s 3ms/step - loss: 28.8882\n",
            "Epoch 45/100\n",
            "120/120 [==============================] - 0s 2ms/step - loss: 27.2519\n",
            "Epoch 46/100\n",
            "120/120 [==============================] - 0s 3ms/step - loss: 27.8808\n",
            "Epoch 47/100\n",
            "120/120 [==============================] - 0s 3ms/step - loss: 27.7978\n",
            "Epoch 48/100\n",
            "120/120 [==============================] - 0s 3ms/step - loss: 27.9523\n",
            "Epoch 49/100\n",
            "120/120 [==============================] - 0s 3ms/step - loss: 28.0670\n",
            "Epoch 50/100\n",
            "120/120 [==============================] - 0s 3ms/step - loss: 29.3550\n",
            "Epoch 51/100\n",
            "120/120 [==============================] - 0s 3ms/step - loss: 28.0102\n",
            "Epoch 52/100\n",
            "120/120 [==============================] - 0s 3ms/step - loss: 27.0965\n",
            "Epoch 53/100\n",
            "120/120 [==============================] - 0s 2ms/step - loss: 27.0134\n",
            "Epoch 54/100\n",
            "120/120 [==============================] - 0s 4ms/step - loss: 27.1901\n",
            "Epoch 55/100\n",
            "120/120 [==============================] - 0s 4ms/step - loss: 27.9389\n",
            "Epoch 56/100\n",
            "120/120 [==============================] - 1s 5ms/step - loss: 28.1847\n",
            "Epoch 57/100\n",
            "120/120 [==============================] - 1s 4ms/step - loss: 27.8444\n",
            "Epoch 58/100\n",
            "120/120 [==============================] - 1s 4ms/step - loss: 28.3136\n",
            "Epoch 59/100\n",
            "120/120 [==============================] - 0s 3ms/step - loss: 27.5142\n",
            "Epoch 60/100\n",
            "120/120 [==============================] - 0s 2ms/step - loss: 26.7963\n",
            "Epoch 61/100\n",
            "120/120 [==============================] - 0s 3ms/step - loss: 28.4965\n",
            "Epoch 62/100\n",
            "120/120 [==============================] - 0s 2ms/step - loss: 27.5401\n",
            "Epoch 63/100\n",
            "120/120 [==============================] - 0s 3ms/step - loss: 27.4154\n",
            "Epoch 64/100\n",
            "120/120 [==============================] - 0s 3ms/step - loss: 28.8470\n",
            "Epoch 65/100\n",
            "120/120 [==============================] - 0s 3ms/step - loss: 27.7681\n",
            "Epoch 66/100\n",
            "120/120 [==============================] - 0s 3ms/step - loss: 27.8657\n",
            "Epoch 67/100\n",
            "120/120 [==============================] - 0s 3ms/step - loss: 27.3930\n",
            "Epoch 68/100\n",
            "120/120 [==============================] - 0s 3ms/step - loss: 27.9380\n",
            "Epoch 69/100\n",
            "120/120 [==============================] - 0s 3ms/step - loss: 28.0512\n",
            "Epoch 70/100\n",
            "120/120 [==============================] - 0s 3ms/step - loss: 28.2587\n",
            "Epoch 71/100\n",
            "120/120 [==============================] - 0s 3ms/step - loss: 28.2485\n",
            "Epoch 72/100\n",
            "120/120 [==============================] - 0s 3ms/step - loss: 26.8682\n",
            "Epoch 73/100\n",
            "120/120 [==============================] - 0s 3ms/step - loss: 28.5084\n",
            "Epoch 74/100\n",
            "120/120 [==============================] - 0s 3ms/step - loss: 27.8696\n",
            "Epoch 75/100\n",
            "120/120 [==============================] - 0s 2ms/step - loss: 32.7346\n",
            "Epoch 76/100\n",
            "120/120 [==============================] - 0s 2ms/step - loss: 28.3536\n",
            "Epoch 77/100\n",
            "120/120 [==============================] - 0s 3ms/step - loss: 26.5329\n",
            "Epoch 78/100\n",
            "120/120 [==============================] - 0s 3ms/step - loss: 27.7681\n",
            "Epoch 79/100\n",
            "120/120 [==============================] - 0s 3ms/step - loss: 27.1741\n",
            "Epoch 80/100\n",
            "120/120 [==============================] - 0s 3ms/step - loss: 27.7379\n",
            "Epoch 81/100\n",
            "120/120 [==============================] - 0s 2ms/step - loss: 27.0089\n",
            "Epoch 82/100\n",
            "120/120 [==============================] - 0s 2ms/step - loss: 26.7674\n",
            "Epoch 83/100\n",
            "120/120 [==============================] - 0s 3ms/step - loss: 28.4333\n",
            "Epoch 84/100\n",
            "120/120 [==============================] - 0s 2ms/step - loss: 28.9512\n",
            "Epoch 85/100\n",
            "120/120 [==============================] - 0s 2ms/step - loss: 27.4831\n",
            "Epoch 86/100\n",
            "120/120 [==============================] - 0s 2ms/step - loss: 27.5789\n",
            "Epoch 87/100\n",
            "120/120 [==============================] - 0s 3ms/step - loss: 29.5331\n",
            "Epoch 88/100\n",
            "120/120 [==============================] - 0s 3ms/step - loss: 27.1903\n",
            "Epoch 89/100\n",
            "120/120 [==============================] - 0s 2ms/step - loss: 27.3140\n",
            "Epoch 90/100\n",
            "120/120 [==============================] - 0s 4ms/step - loss: 27.5117\n",
            "Epoch 91/100\n",
            "120/120 [==============================] - 1s 4ms/step - loss: 27.9592\n",
            "Epoch 92/100\n",
            "120/120 [==============================] - 1s 4ms/step - loss: 27.5111\n",
            "Epoch 93/100\n",
            "120/120 [==============================] - 0s 4ms/step - loss: 27.7651\n",
            "Epoch 94/100\n",
            "120/120 [==============================] - 1s 4ms/step - loss: 26.8535\n",
            "Epoch 95/100\n",
            "120/120 [==============================] - 0s 3ms/step - loss: 28.7712\n",
            "Epoch 96/100\n",
            "120/120 [==============================] - 0s 3ms/step - loss: 27.8386\n",
            "Epoch 97/100\n",
            "120/120 [==============================] - 0s 3ms/step - loss: 26.9756\n",
            "Epoch 98/100\n",
            "120/120 [==============================] - 0s 2ms/step - loss: 28.5978\n",
            "Epoch 99/100\n",
            "120/120 [==============================] - 0s 3ms/step - loss: 26.6486\n",
            "Epoch 100/100\n",
            "120/120 [==============================] - 0s 3ms/step - loss: 26.6278\n"
          ]
        },
        {
          "output_type": "execute_result",
          "data": {
            "text/plain": [
              "<keras.src.callbacks.History at 0x780978e577c0>"
            ]
          },
          "metadata": {},
          "execution_count": 34
        }
      ]
    },
    {
      "cell_type": "markdown",
      "metadata": {
        "id": "0H0zKKNEBLD5"
      },
      "source": [
        "### Predicting the results of the Test set"
      ]
    },
    {
      "cell_type": "code",
      "source": [
        "y_pred = ann.predict(X_test)"
      ],
      "metadata": {
        "colab": {
          "base_uri": "https://localhost:8080/"
        },
        "id": "nsm4Foj6Xrb1",
        "outputId": "078f5730-3af8-457e-91db-06e6df81a23e"
      },
      "execution_count": 35,
      "outputs": [
        {
          "output_type": "stream",
          "name": "stdout",
          "text": [
            "60/60 [==============================] - 0s 2ms/step\n"
          ]
        }
      ]
    },
    {
      "cell_type": "code",
      "source": [
        "print(y_pred)"
      ],
      "metadata": {
        "colab": {
          "base_uri": "https://localhost:8080/"
        },
        "id": "tLxf5Pw6ZmQh",
        "outputId": "585fba80-fca0-4f02-eeb0-d671b6aa392b"
      },
      "execution_count": 37,
      "outputs": [
        {
          "output_type": "stream",
          "name": "stdout",
          "text": [
            "[[431.65097]\n",
            " [462.66873]\n",
            " [466.15598]\n",
            " ...\n",
            " [473.44348]\n",
            " [440.1669 ]\n",
            " [459.44138]]\n"
          ]
        }
      ]
    },
    {
      "cell_type": "code",
      "source": [
        "print(np.concatenate( ( y_pred.reshape( len(y_pred),1 ),y_test.reshape( len(y_test),1 ) ),1 ))"
      ],
      "metadata": {
        "colab": {
          "base_uri": "https://localhost:8080/"
        },
        "id": "319oThBZZuod",
        "outputId": "0d4e24f7-a476-4379-939a-cbf45aaa3ba5"
      },
      "execution_count": 36,
      "outputs": [
        {
          "output_type": "stream",
          "name": "stdout",
          "text": [
            "[[431.65097046 431.23      ]\n",
            " [462.66873169 460.01      ]\n",
            " [466.15597534 461.14      ]\n",
            " ...\n",
            " [473.44348145 473.26      ]\n",
            " [440.16690063 438.        ]\n",
            " [459.44137573 463.28      ]]\n"
          ]
        }
      ]
    },
    {
      "cell_type": "markdown",
      "source": [
        "## Evaluating ANN Performance"
      ],
      "metadata": {
        "id": "jhEcBaBHcfej"
      }
    },
    {
      "cell_type": "code",
      "source": [
        "from sklearn.metrics import r2_score\n",
        "r2_score(y_test, y_pred)"
      ],
      "metadata": {
        "colab": {
          "base_uri": "https://localhost:8080/"
        },
        "id": "4myYUBjMcllb",
        "outputId": "e5a592f4-810f-44af-812c-b08ee49d2a60"
      },
      "execution_count": 38,
      "outputs": [
        {
          "output_type": "execute_result",
          "data": {
            "text/plain": [
              "0.9158452187303475"
            ]
          },
          "metadata": {},
          "execution_count": 38
        }
      ]
    }
  ]
}